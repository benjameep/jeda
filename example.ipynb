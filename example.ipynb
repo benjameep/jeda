{
 "cells": [
  {
   "cell_type": "code",
   "execution_count": 6,
   "metadata": {},
   "outputs": [],
   "source": [
    "from jeda import Jeda\n",
    "import pandas as pd\n",
    "import numpy as np\n",
    "import seaborn as sns"
   ]
  },
  {
   "cell_type": "code",
   "execution_count": 7,
   "metadata": {},
   "outputs": [],
   "source": [
    "titanic = sns.load_dataset(\"titanic\")"
   ]
  },
  {
   "cell_type": "code",
   "execution_count": 8,
   "metadata": {},
   "outputs": [],
   "source": [
    "df = titanic[['sex','age','sibsp','parch','fare','class','deck','embark_town','alive']]"
   ]
  },
  {
   "cell_type": "code",
   "execution_count": 11,
   "metadata": {},
   "outputs": [
    {
     "data": {
      "application/vnd.jupyter.widget-view+json": {
       "model_id": "62bc622c8cdf408d90a9932e9e4378f1",
       "version_major": 2,
       "version_minor": 0
      },
      "text/plain": [
       "Jeda()"
      ]
     },
     "metadata": {},
     "output_type": "display_data"
    }
   ],
   "source": [
    "Jeda(data=df)"
   ]
  },
  {
   "cell_type": "code",
   "execution_count": 16,
   "metadata": {},
   "outputs": [],
   "source": [
    "counts = df['deck'].value_counts().sort_index().reset_index()\n",
    "counts.columns = ['name','count']\n",
    "counts['percent'] = counts['count'] / counts['count'].max()"
   ]
  },
  {
   "cell_type": "code",
   "execution_count": 19,
   "metadata": {},
   "outputs": [
    {
     "data": {
      "text/plain": [
       "'[{\"name\":\"A\",\"count\":15,\"percent\":0.2542372881},{\"name\":\"B\",\"count\":47,\"percent\":0.7966101695},{\"name\":\"C\",\"count\":59,\"percent\":1.0},{\"name\":\"D\",\"count\":33,\"percent\":0.5593220339},{\"name\":\"E\",\"count\":32,\"percent\":0.5423728814},{\"name\":\"F\",\"count\":13,\"percent\":0.2203389831},{\"name\":\"G\",\"count\":4,\"percent\":0.0677966102}]'"
      ]
     },
     "execution_count": 19,
     "metadata": {},
     "output_type": "execute_result"
    }
   ],
   "source": [
    "counts.to_json(orient='records')"
   ]
  },
  {
   "cell_type": "code",
   "execution_count": null,
   "metadata": {},
   "outputs": [],
   "source": []
  }
 ],
 "metadata": {
  "kernelspec": {
   "display_name": "Python 3",
   "language": "python",
   "name": "python3"
  },
  "language_info": {
   "codemirror_mode": {
    "name": "ipython",
    "version": 3
   },
   "file_extension": ".py",
   "mimetype": "text/x-python",
   "name": "python",
   "nbconvert_exporter": "python",
   "pygments_lexer": "ipython3",
   "version": "3.8.3"
  }
 },
 "nbformat": 4,
 "nbformat_minor": 4
}
